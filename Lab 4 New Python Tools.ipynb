{
 "cells": [
  {
   "cell_type": "markdown",
   "metadata": {},
   "source": [
    "## Lab 4: Blackbody Radiation and the Stefan-Boltzmann Law\n",
    "### New Python Features\n",
    "\n",
    "This notebook discusses several of the new things you'll need to do in Lab 4: read in a data file, interpolate between measured data points, and use a log-log plot to \"eyeball\" data that can be described by a *power law model*."
   ]
  },
  {
   "cell_type": "code",
   "execution_count": 1,
   "metadata": {
    "collapsed": true
   },
   "outputs": [],
   "source": [
    "import numpy as np\n",
    "import matplotlib.pyplot as plt\n",
    "%matplotlib inline\n",
    "\n",
    "from scipy.interpolate import interp1d"
   ]
  },
  {
   "cell_type": "markdown",
   "metadata": {},
   "source": [
    "### Reading in a data file\n",
    "\n",
    "As described in the lab handout, the easiest way to do this is with the `np.loadtxt()` function:\n",
    "\n",
    "```python\n",
    "data = np.loadtxt('path_to_my_file.txt')\n",
    "```\n",
    "\n",
    "To be clear, here you are assigning the output of `np.loadtxt()` (which is an array) to the variable `data`.\n",
    "\n",
    "For the purposes of this lab, this should be sufficient. You might want to look at the `np.loadtxt()` documentation for additional options. One option that can be useful is if you need to skip a row. Perhaps you prepared a text file of data, `myfile.txt`, that looks like\n",
    "\n",
    "```\n",
    "Voltage (V)     Current (mA)\n",
    "0.05    0.5\n",
    "0.10    1.0\n",
    "0.15    1.5\n",
    "```\n",
    "\n",
    "and so on. Here there's no numerical data in the first line, which just contains labels. In that case, you can use the `skiprows` optional argument to skip the first line:\n",
    "\n",
    "```python\n",
    "data = np.loadtxt('myfile.txt', skiprows = 1)\n",
    "```\n"
   ]
  },
  {
   "cell_type": "markdown",
   "metadata": {},
   "source": [
    "### Interpolation\n",
    "\n",
    "Often it's the case that you have experimentally measured data at a set of points but need to values that are between the measured values. In lab, this came up with the data for the resistivity of tungsten $\\rho(T)$, where you only know the resistivity $\\rho$ at certain temperatures $T$.\n",
    "\n",
    "Suppose you had an array `your_normalized_resistivities` containing normalized resistivities for tungsten and another array `your_temperatures` containing the temperature. Then,\n",
    "\n",
    "```python\n",
    "func = interp1d(your_normalized_resistivities, your_temperatures)\n",
    "```\n",
    "\n",
    "will create a function `func` that you can now call. If I want to know what the temperature is that corresponds to a normalized resistance of 2.7, for instance, I can get that from\n",
    "\n",
    "```python\n",
    "func(2.7)\n",
    "```\n",
    "\n",
    "This function `func` also accepts array arguments, so you can call it with an array of your normalized resistance values as in the handout.\n",
    "\n",
    "The handout suggests using an optional keyword argument, `kind`:\n",
    "\n",
    "```python\n",
    "func = interp1d(your_normalized_resistivities, your_temperatures, kind = 'cubic')\n",
    "```\n",
    "\n",
    "This will join the measured data points with a set of smoothly connected cubic polynomials (called cubic splines.) The default option (if you don't specify the `kind` keyword argument) is just to join the measured data points with straight lines (equivalent to specifying `kind = 'linear'`). As you might imagine, the cubic spline interpolation is usually smoother, which is why it is suggested.\n",
    "\n",
    "#### Extra information: extrapolating data\n",
    "\n",
    "There is one good reason, under certain circumstances, not to use cubic spline interpolation: you might need to *extrapolate* outside the range of your measured data. The smallest value in `your_normalized_resistivities` was 1.0. If you try to call func with a value less than 1, \n",
    "\n",
    "```python\n",
    "func(0.5)\n",
    "```\n",
    "\n",
    "you will get an error message ending with\n",
    "\n",
    "```\n",
    "ValueError: A value in x_new is below the interpolation range.\n",
    "```\n",
    "\n",
    "Outside the range of your measured data, the interpolated function doesn't know what to do. You can get around this by specifying the `fill_value` keyword argument and linear interpolation (with `kind = linear`):\n",
    "\n",
    "```python\n",
    "func2 = interp1d(your_normalized_resistivities, your_temperatures,\n",
    "                 kind = 'linear', fill_value = 'extrapolate')\n",
    "```\n",
    "\n",
    "Critically, extrapolation does *not* work with cubic spline interpolation."
   ]
  },
  {
   "cell_type": "markdown",
   "metadata": {},
   "source": [
    "### Using log-log plots to eyeball a power law\n",
    "\n",
    "Often we might have data that we expect to follow a power law, as in the case of our radiated power vs. temperature measurements. You can certainly do a linear plot of the natural log:\n",
    "\n",
    "```python\n",
    "plt.plot(np.log(your_xdata), np.log(your_ydata))\n",
    "```\n",
    "\n",
    "but here is an alternate approach you may use.\n",
    "\n",
    "First I'm going to make up some data to use for demonstration purposes:"
   ]
  },
  {
   "cell_type": "code",
   "execution_count": 2,
   "metadata": {
    "collapsed": true
   },
   "outputs": [],
   "source": [
    "fake_xdata = np.linspace(0.1, 1000, 100)\n",
    "arbitrary_multiplicative_constant = 1.9\n",
    "power_law_exponent = 4\n",
    "fake_ydata = arbitrary_multiplicative_constant * fake_xdata**power_law_exponent"
   ]
  },
  {
   "cell_type": "markdown",
   "metadata": {},
   "source": [
    "Here's a linear plot of the natural log:"
   ]
  },
  {
   "cell_type": "code",
   "execution_count": 3,
   "metadata": {},
   "outputs": [
    {
     "data": {
      "text/plain": [
       "<matplotlib.text.Text at 0x10f76eeb8>"
      ]
     },
     "execution_count": 3,
     "metadata": {},
     "output_type": "execute_result"
    },
    {
     "data": {
      "image/png": "[encoded data removed]",
      "text/plain": [
       "<matplotlib.figure.Figure at 0x10d4cbcc0>"
      ]
     },
     "metadata": {},
     "output_type": "display_data"
    }
   ],
   "source": [
    "plt.figure(figsize = (8,6)) # make the plot bigger\n",
    "plt.plot(np.log(fake_xdata), np.log(fake_ydata), 'bo')\n",
    "plt.xlabel('ln(fake x values)')\n",
    "plt.ylabel('ln(fake y values)')"
   ]
  },
  {
   "cell_type": "markdown",
   "metadata": {},
   "source": [
    "Clearly, the fake data now look linear. Notice that the slope is 4: the line goes up 4 units in the ordinate for every unit in the abscissa. But there is a disadvantage in that I can't calculate powers of $e$ in my head, so it's hard to tell what value the data point around $x = -2$ actually has. Using base 10 logarithms makes it a little better:"
   ]
  },
  {
   "cell_type": "code",
   "execution_count": 4,
   "metadata": {},
   "outputs": [
    {
     "data": {
      "text/plain": [
       "<matplotlib.text.Text at 0x10fb35860>"
      ]
     },
     "execution_count": 4,
     "metadata": {},
     "output_type": "execute_result"
    },
    {
     "data": {
      "image/png": "[encoded data removed]",
      "text/plain": [
       "<matplotlib.figure.Figure at 0x10f7d3a20>"
      ]
     },
     "metadata": {},
     "output_type": "display_data"
    }
   ],
   "source": [
    "plt.figure(figsize = (8,6)) # make the plot bigger\n",
    "plt.plot(np.log10(fake_xdata), np.log10(fake_ydata), 'go')\n",
    "plt.xlabel('log10(fake x values)')\n",
    "plt.ylabel('log10(fake y values)')"
   ]
  },
  {
   "cell_type": "markdown",
   "metadata": {},
   "source": [
    "What is a little easier to read, however, is a plot on log-log scales:"
   ]
  },
  {
   "cell_type": "code",
   "execution_count": 5,
   "metadata": {},
   "outputs": [
    {
     "data": {
      "text/plain": [
       "<matplotlib.text.Text at 0x10fb23978>"
      ]
     },
     "execution_count": 5,
     "metadata": {},
     "output_type": "execute_result"
    },
    {
     "data": {
      "image/png": "[encoded data removed]",
      "text/plain": [
       "<matplotlib.figure.Figure at 0x10fc405c0>"
      ]
     },
     "metadata": {},
     "output_type": "display_data"
    }
   ],
   "source": [
    "plt.figure(figsize = (8,6)) # make the plot bigger\n",
    "plt.loglog(fake_xdata, fake_ydata, 'ro')\n",
    "plt.xlabel('fake x values')\n",
    "plt.ylabel('fake y values')"
   ]
  },
  {
   "cell_type": "markdown",
   "metadata": {},
   "source": [
    "Now I can directly read off the values of any point. Notice also how the slope is still 4 in terms of powers of 10.\n",
    "\n",
    "A handy trick is to *plot* an extra line of known slope on your log-log plot as a guide to the eye. Here, for instance, suppose that I expect my fake data to obey the power law\n",
    "\n",
    "$$ y = A x^4$$\n",
    "\n",
    "where $A$ is a constant:"
   ]
  },
  {
   "cell_type": "code",
   "execution_count": 6,
   "metadata": {},
   "outputs": [
    {
     "data": {
      "text/plain": [
       "[<matplotlib.lines.Line2D at 0x10fcc9588>]"
      ]
     },
     "execution_count": 6,
     "metadata": {},
     "output_type": "execute_result"
    },
    {
     "data": {
      "image/png": "[encoded data removed]",
      "text/plain": [
       "<matplotlib.figure.Figure at 0x11061f128>"
      ]
     },
     "metadata": {},
     "output_type": "display_data"
    }
   ],
   "source": [
    "plt.figure(figsize = (8,6)) # make the plot bigger\n",
    "plt.loglog(fake_xdata, fake_ydata, 'ro')\n",
    "plt.xlabel('fake x values')\n",
    "plt.ylabel('fake y values')\n",
    "\n",
    "extra_xvalues = np.linspace(10, 500, 50)\n",
    "plt.loglog(extra_xvalues, 4 * extra_xvalues**4, 'k') # plot guide for eye as solid black line"
   ]
  },
  {
   "cell_type": "markdown",
   "metadata": {},
   "source": [
    "I arbitrarily picked the value of 4 in front of `extra_xvalues**4` to raise the black line slightly above the data points. It's now pretty obvious that the \"data\" have a $x^4$ dependence."
   ]
  }
 ],
 "metadata": {
  "anaconda-cloud": {},
  "kernelspec": {
   "display_name": "Python [conda root]",
   "language": "python",
   "name": "conda-root-py"
  },
  "language_info": {
   "codemirror_mode": {
    "name": "ipython",
    "version": 3
   },
   "file_extension": ".py",
   "mimetype": "text/x-python",
   "name": "python",
   "nbconvert_exporter": "python",
   "pygments_lexer": "ipython3",
   "version": "3.5.3"
  }
 },
 "nbformat": 4,
 "nbformat_minor": 1
}
