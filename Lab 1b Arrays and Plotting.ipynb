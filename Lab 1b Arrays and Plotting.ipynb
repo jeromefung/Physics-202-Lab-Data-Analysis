{
 "cells": [
  {
   "cell_type": "markdown",
   "metadata": {},
   "source": [
    "# Lab 1b: Arrays and Plotting\n",
    "### Wellesley College, Physics 202 Lab, Fall 2017\n",
    "### Lauri Wardell and Glenn Stark\n",
    "### Tutorial written by Jerome Fung"
   ]
  },
  {
   "cell_type": "markdown",
   "metadata": {},
   "source": [
    "Now that you've gotten Jupyter set up and running, and you've seen how you can use Jupyter as a calculator, we can turn our attention to some bigger tasks. In this tutorial, you will learn:\n",
    "\n",
    "* What NumPy arrays are, why they are useful, and how to use them\n",
    "* How to write *functions* and use NumPy arrays in them\n",
    "* How to make plots using `matplotlib`"
   ]
  },
  {
   "cell_type": "markdown",
   "metadata": {},
   "source": [
    "## NumPy Arrays"
   ]
  },
  {
   "cell_type": "markdown",
   "metadata": {},
   "source": [
    "Data structures that consist of an ordered arrangement of numerical values can be useful in many contexts. Here are just a few examples:\n",
    "\n",
    "* You're trying to determine the spring constant of a spring by measuring the force the spring exerts as you stretch the spring different distances. (You'd like to keep your measured set of forces together, and the order of the measurements matters.)\n",
    "* You're calculating the trajectory of a particle acted upon by some complicated force and want to know the particle positions at regular time intervals.\n",
    "\n",
    "Python has a built-in `list` object, but the numpy `array` object has a number of features that make it preferable for most computational work. We'll soon see what some of those features are.\n"
   ]
  },
  {
   "cell_type": "markdown",
   "metadata": {},
   "source": [
    "If you wish to continue using the same notebook as for Lab 1a, you may use a \"Markdown\" cell to indicate that this is the beginning of Lab 1b. If you wish to start a new notebook, you need the `import` statements that allow you to use numpy, scipy, and matplotlib."
   ]
  },
  {
   "cell_type": "code",
   "execution_count": 14,
   "metadata": {
    "collapsed": true
   },
   "outputs": [],
   "source": [
    "import numpy as np \n",
    "import matplotlib.pyplot as plt \n",
    "\n",
    "# we'll use the following parts of the scipy library for curve fitting\n",
    "# include now even though we won't use it in this tutorial\n",
    "import scipy.stats\n",
    "import scipy.optimize\n",
    "\n",
    "%matplotlib inline"
   ]
  },
  {
   "cell_type": "markdown",
   "metadata": {},
   "source": [
    "Let's begin by creating an array. In the next code cell, I *assign* the variable `wendy` to a *1-dimensional* array that I create \"by hand.\""
   ]
  },
  {
   "cell_type": "code",
   "execution_count": 15,
   "metadata": {
    "collapsed": true
   },
   "outputs": [],
   "source": [
    "wendy = np.array([1, 1, 2, 3, 5, 8, 13])"
   ]
  },
  {
   "cell_type": "markdown",
   "metadata": {},
   "source": [
    "Assignment means that I can subsequently use the variable name `wendy` to refer to or act on the entire array object I just created. For instance,"
   ]
  },
  {
   "cell_type": "code",
   "execution_count": 16,
   "metadata": {},
   "outputs": [
    {
     "name": "stdout",
     "output_type": "stream",
     "text": [
      "[ 1  1  2  3  5  8 13]\n"
     ]
    }
   ],
   "source": [
    "print(wendy)"
   ]
  },
  {
   "cell_type": "markdown",
   "metadata": {},
   "source": [
    "prints the array. The most important feature of arrays is the ability to perform mathematical operations on the **entire array at once**. Doing so makes for code that is easier to read and usually more efficient. For example, try some of the following for yourself:"
   ]
  },
  {
   "cell_type": "code",
   "execution_count": 17,
   "metadata": {},
   "outputs": [
    {
     "name": "stdout",
     "output_type": "stream",
     "text": [
      "[ 4  4  5  6  8 11 16]\n",
      "[ 2  2  4  6 10 16 26]\n"
     ]
    }
   ],
   "source": [
    "print(wendy + 3)\n",
    "print(2 * wendy)"
   ]
  },
  {
   "cell_type": "markdown",
   "metadata": {},
   "source": [
    "(If you're familiar with Python `list` objects, you probably know that doing the same thing on a list requires explicit iteration over the list elements with a `for` or `while` loop. Don't worry if you haven't worked with `list` objects before and the previous sentence was gobbledygook.)\n",
    "\n",
    "I can create other arrays in a similar fashion and perform operations with multiple arrays:"
   ]
  },
  {
   "cell_type": "code",
   "execution_count": 18,
   "metadata": {},
   "outputs": [
    {
     "data": {
      "text/plain": [
       "array([ 2,  2,  3,  4,  6,  9, 14])"
      ]
     },
     "execution_count": 18,
     "metadata": {},
     "output_type": "execute_result"
    }
   ],
   "source": [
    "winona = np.array([1, 1, 1, 1, 1, 1, 1])\n",
    "xena = np.array([1, 2, 3, 4, 5, 6, 7, 8])\n",
    "\n",
    "# we can also use Jupyter in a calculator-like manner with arrays\n",
    "wendy + winona"
   ]
  },
  {
   "cell_type": "markdown",
   "metadata": {},
   "source": [
    "However, trying to perform operations on arrays that are not the same shape results in an exception (`wendy` has 7 elements whereas `xena` has 8):"
   ]
  },
  {
   "cell_type": "code",
   "execution_count": 19,
   "metadata": {},
   "outputs": [
    {
     "ename": "ValueError",
     "evalue": "operands could not be broadcast together with shapes (7,) (8,) ",
     "output_type": "error",
     "traceback": [
      "\u001b[0;31m---------------------------------------------------------------------------\u001b[0m",
      "\u001b[0;31mValueError\u001b[0m                                Traceback (most recent call last)",
      "\u001b[0;32m<ipython-input-19-77692f4cb685>\u001b[0m in \u001b[0;36m<module>\u001b[0;34m()\u001b[0m\n\u001b[0;32m----> 1\u001b[0;31m \u001b[0mwendy\u001b[0m \u001b[0;34m+\u001b[0m \u001b[0mxena\u001b[0m\u001b[0;34m\u001b[0m\u001b[0m\n\u001b[0m",
      "\u001b[0;31mValueError\u001b[0m: operands could not be broadcast together with shapes (7,) (8,) "
     ]
    }
   ],
   "source": [
    "wendy + xena"
   ]
  },
  {
   "cell_type": "markdown",
   "metadata": {},
   "source": [
    "You can access specific elements of an array via *indexing*. Here are some examples:"
   ]
  },
  {
   "cell_type": "code",
   "execution_count": 20,
   "metadata": {},
   "outputs": [
    {
     "name": "stdout",
     "output_type": "stream",
     "text": [
      "1\n",
      "2\n"
     ]
    }
   ],
   "source": [
    "print(wendy[0]) # indices begin at 0\n",
    "print(wendy[2]) # therefore this is actually the 3rd element of the array"
   ]
  },
  {
   "cell_type": "code",
   "execution_count": 21,
   "metadata": {},
   "outputs": [
    {
     "name": "stdout",
     "output_type": "stream",
     "text": [
      "[1 1 2 3 5]\n"
     ]
    }
   ],
   "source": [
    "print(wendy[0:5]) # a range of indices, doesn't include the endpoint wendy[5]"
   ]
  },
  {
   "cell_type": "code",
   "execution_count": 22,
   "metadata": {},
   "outputs": [
    {
     "name": "stdout",
     "output_type": "stream",
     "text": [
      "13\n"
     ]
    }
   ],
   "source": [
    "print(wendy[-1]) # last element"
   ]
  },
  {
   "cell_type": "markdown",
   "metadata": {},
   "source": [
    "There are lots of other indexing tricks available -- see the [official documentation on indexing here](http://docs.scipy.org/doc/numpy/reference/arrays.indexing.html) and/or a much more extensive tutorial [here](http://www.scipy-lectures.org/intro/numpy/array_object.html) if you are interested.\n",
    "\n",
    "Arrays also have useful *methods*, which you can think of as operations that an array can perform on itself. The examples below show several possibilities as well as how to *call* a method:"
   ]
  },
  {
   "cell_type": "code",
   "execution_count": 23,
   "metadata": {},
   "outputs": [
    {
     "data": {
      "text/plain": [
       "33"
      ]
     },
     "execution_count": 23,
     "metadata": {},
     "output_type": "execute_result"
    }
   ],
   "source": [
    "# add up all the elements\n",
    "wendy.sum()"
   ]
  },
  {
   "cell_type": "code",
   "execution_count": 24,
   "metadata": {},
   "outputs": [
    {
     "data": {
      "text/plain": [
       "36"
      ]
     },
     "execution_count": 24,
     "metadata": {},
     "output_type": "execute_result"
    }
   ],
   "source": [
    "# do the same thing on a different array\n",
    "xena.sum()"
   ]
  },
  {
   "cell_type": "code",
   "execution_count": 25,
   "metadata": {},
   "outputs": [
    {
     "data": {
      "text/plain": [
       "array([  1,   1,   4,   9,  25,  64, 169])"
      ]
     },
     "execution_count": 25,
     "metadata": {},
     "output_type": "execute_result"
    }
   ],
   "source": [
    "#square an array\n",
    "wendy**2 #or\n",
    "np.square(wendy)"
   ]
  },
  {
   "cell_type": "code",
   "execution_count": 26,
   "metadata": {},
   "outputs": [
    {
     "name": "stdout",
     "output_type": "stream",
     "text": [
      "1 13\n"
     ]
    }
   ],
   "source": [
    "print(wendy.min(), wendy.max()) # get minimum and maximum values"
   ]
  },
  {
   "cell_type": "markdown",
   "metadata": {},
   "source": [
    "Create a 'Markdown' cell to indicate that what you are doing next is 'Exercise 2.'"
   ]
  },
  {
   "cell_type": "markdown",
   "metadata": {},
   "source": [
    "***Exercise 2***\n",
    "\n",
    "Using the array `wendy` defined above, calculate the following by performing mathematical operations on `wendy`:\n",
    "\n",
    "$$\\frac{\\textrm{wendy}^2 + 7}{\\textrm{sum of elements in wendy}}$$\n",
    "\n",
    "[Ans: array([ 0.24242424,  0.24242424,  0.33333333,  0.48484848,  0.96969697,\n",
    "        2.15151515,  5.33333333])]"
   ]
  },
  {
   "cell_type": "markdown",
   "metadata": {},
   "source": [
    "## Writing functions"
   ]
  },
  {
   "cell_type": "markdown",
   "metadata": {},
   "source": [
    "We now turn to writing *functions*. You have already used a number of Python functions, like `print`, as well as functions that are part of numpy such as `np.array`. Functions provide a useful way to *encapsulate* and reuse code for calculations. Writing functions will also be necessary when you fit models to data.\n",
    "\n",
    "The writing of functions is best illustrated through an example. The next code cell contains a rather silly example, but we'll use it to point out the important features."
   ]
  },
  {
   "cell_type": "code",
   "execution_count": 37,
   "metadata": {
    "collapsed": true
   },
   "outputs": [],
   "source": [
    "def sum_squares_of_elements(x):\n",
    "    '''\n",
    "    Add up the squares of each element of an input array x.\n",
    "    '''\n",
    "    # The next line makes x an array if it isn't one already.\n",
    "    x = np.asarray(x) \n",
    "    elements_squared = x**2\n",
    "    sum_of_elements_squared = elements_squared.sum()\n",
    "    return sum_of_elements_squared"
   ]
  },
  {
   "cell_type": "markdown",
   "metadata": {},
   "source": [
    "Here are the features to notice:\n",
    "\n",
    "* Function definitions must begin with `def`. The name of the function, in this case `sum_squares_of_elements`, follows.\n",
    "* Functions may have one or more input *arguments*. A function may have no arguments, but most of the ones you'll use and write in this course will have at least one. In this example, `x` is the single argument. The argument or arguments are enclosed in parentheses.\n",
    "* The `def` statement ends with a colon. Python is sensitive to indentation. If you want subsequent lines to be part of the function, they need to be indented (by convention, 4 spaces; Jupyter will do this for you automatically).\n",
    "* A comment string (delineated by three apostrophes) called a *documentation string* or *docstring* for short follows the `def` statement. This is optional, but it can be helpful for documenting what the function does. (Choosing sensible names is also a good idea. Don't give your functions a meaningless name like `qwerty17`.)\n",
    "* The code that the function will execute on its input arguments follows.\n",
    "* Usually, the results of a function are meant to be used, and you will want a function to `return` one or more arguments. A function is not required to return anything, and you can also return multiple arguments. What you return is arbitrary: in particular, you can return numbers as well as arrays.\n",
    "\n",
    "Now that the function is defined, I can use it by *calling* it. For example:"
   ]
  },
  {
   "cell_type": "code",
   "execution_count": 38,
   "metadata": {},
   "outputs": [
    {
     "data": {
      "text/plain": [
       "273"
      ]
     },
     "execution_count": 38,
     "metadata": {},
     "output_type": "execute_result"
    }
   ],
   "source": [
    "sum_squares_of_elements(wendy)"
   ]
  },
  {
   "cell_type": "code",
   "execution_count": 39,
   "metadata": {},
   "outputs": [
    {
     "data": {
      "text/plain": [
       "4"
      ]
     },
     "execution_count": 39,
     "metadata": {},
     "output_type": "execute_result"
    }
   ],
   "source": [
    "# Because of the np.asarray function, the function will work even if the input isn't an array\n",
    "sum_squares_of_elements(2)"
   ]
  },
  {
   "cell_type": "code",
   "execution_count": 40,
   "metadata": {
    "collapsed": true
   },
   "outputs": [],
   "source": [
    "# can call functions within other functions\n",
    "def sum_squares_of_elements_plus_n(x, n):\n",
    "    '''\n",
    "    Add a number n to the result of sum_squares_of_elements\n",
    "    '''\n",
    "    # for really simple things, calculations can happen within the return statement\n",
    "    return sum_squares_of_elements(x) + n"
   ]
  },
  {
   "cell_type": "code",
   "execution_count": 41,
   "metadata": {},
   "outputs": [
    {
     "data": {
      "text/plain": [
       "276"
      ]
     },
     "execution_count": 41,
     "metadata": {},
     "output_type": "execute_result"
    }
   ],
   "source": [
    "sum_squares_of_elements_plus_n(wendy, 3)"
   ]
  },
  {
   "cell_type": "markdown",
   "metadata": {},
   "source": [
    "***Exercise 3***\n",
    "\n",
    "Write a function that takes as input a numpy array and a second numerical parameter, `tau`, that returns an array where each element in the output contains the calculation\n",
    "$$ e^{-x / \\tau} $$\n",
    "for the corresponding value $x$ in the input array. Hint: the exponential function is defined in Python as 'exp' and is in numpy. Therefore, your return line needs to use np.exp().\n",
    "\n",
    "Evaluate the function for x = 3, `tau` = 5.  [Ans: 0.5488....]"
   ]
  },
  {
   "cell_type": "markdown",
   "metadata": {},
   "source": [
    "## Plotting"
   ]
  },
  {
   "cell_type": "markdown",
   "metadata": {},
   "source": [
    "We will now turn to making basic plots. We point out a few key features here, but there is much more you can learn from reading the [matplotlib documentation](http://matplotlib.org/api/pyplot_summary.html).\n",
    "\n",
    "Let's start off with an example."
   ]
  },
  {
   "cell_type": "code",
   "execution_count": 42,
   "metadata": {},
   "outputs": [
    {
     "data": {
      "text/plain": [
       "[<matplotlib.lines.Line2D at 0x1175c8550>]"
      ]
     },
     "execution_count": 42,
     "metadata": {},
     "output_type": "execute_result"
    },
    {
     "data": {
      "image/png": "[encoded data removed]",
      "text/plain": [
       "<matplotlib.figure.Figure at 0x11726c630>"
      ]
     },
     "metadata": {},
     "output_type": "display_data"
    }
   ],
   "source": [
    "foo = np.array([0, 1, 2, 3, 4, 5])\n",
    "foo_times_two = 2. * foo\n",
    "\n",
    "plt.plot(foo, foo_times_two)"
   ]
  },
  {
   "cell_type": "markdown",
   "metadata": {},
   "source": [
    "The basic plotting command is `plt.plot()`. In the above example, there were two arguments to `plt.plot()`:\n",
    "\n",
    "* First argument: the variable to be plotted on the $x$ axis\n",
    "* Second argument: the variable to be plotted on the $y$ axis\n",
    "\n",
    "If no other arguments are given, the points are joined by continuous line segments. This may not always be desirable, and the behavior can be changed by an optional third argument:"
   ]
  },
  {
   "cell_type": "code",
   "execution_count": 43,
   "metadata": {},
   "outputs": [
    {
     "data": {
      "text/plain": [
       "[<matplotlib.lines.Line2D at 0x1176a96d8>]"
      ]
     },
     "execution_count": 43,
     "metadata": {},
     "output_type": "execute_result"
    },
    {
     "data": {
      "image/png": "[encoded data removed]",
      "text/plain": [
       "<matplotlib.figure.Figure at 0x1175ead30>"
      ]
     },
     "metadata": {},
     "output_type": "display_data"
    }
   ],
   "source": [
    "plt.plot(foo, foo_times_two, 'bo')"
   ]
  },
  {
   "cell_type": "markdown",
   "metadata": {},
   "source": [
    "Here, the third argument, the format string `'bo'`, results in blue circles. The 'b' stands for blue, and the 'o' gives circles. \n",
    "\n",
    "Other colors are available, including [g]reen, [r]ed, [c]yan, [y]ellow, [m]agenta, and blac[k]. \n",
    "\n",
    "A full list of plotting markers is available [here](http://matplotlib.org/api/markers_api.html). Commonly used ones include `V`, `^`, `<`, `>` (triangles facing in different directions), `.` (small points), and `s` (squares).\n",
    "\n",
    "Try some formatting options of your own in the above plot!\n",
    "\n",
    "There are some other niceties that you might want to include. A few examples are illustrated in the cell below:"
   ]
  },
  {
   "cell_type": "code",
   "execution_count": 44,
   "metadata": {},
   "outputs": [
    {
     "data": {
      "text/plain": [
       "<matplotlib.text.Text at 0x117711ac8>"
      ]
     },
     "execution_count": 44,
     "metadata": {},
     "output_type": "execute_result"
    },
    {
     "data": {
      "image/png": "[encoded data removed]",
      "text/plain": [
       "<matplotlib.figure.Figure at 0x117673d30>"
      ]
     },
     "metadata": {},
     "output_type": "display_data"
    }
   ],
   "source": [
    "plt.figure(figsize=(8,6)) # make plots larger (nominal size in inches)\n",
    "# actual on-screen size may vary depending on your computer browser\n",
    "plt.plot(foo, foo_times_two, 'bo-') # include continuous lines between points\n",
    "plt.xlim((-1, 6)) # change x-axis limits\n",
    "plt.ylim((-2, 12)) # change y-axis limits\n",
    "plt.xlabel('String with some actual label') # label the x-axis\n",
    "plt.ylabel('Some other appropriate label', size=12) # label the y-axis\n",
    "# keyword argument above increases the font size to 12 pt\n",
    "plt.title('Give your plots better titles than this') # title"
   ]
  },
  {
   "cell_type": "markdown",
   "metadata": {},
   "source": [
    "Other types of plots are possible, including:\n",
    "\n",
    "* semilog plots (use `plt.semilogx` for logarithmic scaling on the $x$ axis and `plt.semilogy` for logarithmic scaling on the $y$ axis)\n",
    "* log-log plots (`plt.loglog`)\n",
    "\n",
    "Again, see the matplotlib documentation for the many other possibilities."
   ]
  },
  {
   "cell_type": "markdown",
   "metadata": {},
   "source": [
    "## Two useful commands for plotting mathematical functions"
   ]
  },
  {
   "cell_type": "markdown",
   "metadata": {},
   "source": [
    "Very often you'll want to plot some mathematical function (either a built-in function or one you've written) over some range of arguments. You might, for instance, want to generate an evenly spaced set of points between two values. There is a nice way to do this via the `np.linspace` function:"
   ]
  },
  {
   "cell_type": "code",
   "execution_count": 45,
   "metadata": {},
   "outputs": [
    {
     "data": {
      "text/plain": [
       "array([ 1.        ,  1.44444444,  1.88888889,  2.33333333,  2.77777778,\n",
       "        3.22222222,  3.66666667,  4.11111111,  4.55555556,  5.        ])"
      ]
     },
     "execution_count": 45,
     "metadata": {},
     "output_type": "execute_result"
    }
   ],
   "source": [
    "# np.linspace takes 3 arguments: start, stop (inclusive), number of points\n",
    "np.linspace(1, 5, 10)"
   ]
  },
  {
   "cell_type": "markdown",
   "metadata": {},
   "source": [
    "There's another way to do this: the function np.arange:"
   ]
  },
  {
   "cell_type": "code",
   "execution_count": 46,
   "metadata": {},
   "outputs": [
    {
     "data": {
      "text/plain": [
       "array([ 1. ,  1.2,  1.4,  1.6,  1.8,  2. ,  2.2,  2.4,  2.6,  2.8,  3. ,\n",
       "        3.2,  3.4,  3.6,  3.8,  4. ,  4.2,  4.4,  4.6,  4.8])"
      ]
     },
     "execution_count": 46,
     "metadata": {},
     "output_type": "execute_result"
    }
   ],
   "source": [
    "# np.arange takes 3 arguments: start, stop (not inclusive)\n",
    "# and an optional 3rd argument that is the step size.\n",
    "# If step size not included, default step size is 1\n",
    "np.arange(1, 5, 0.2)"
   ]
  },
  {
   "cell_type": "markdown",
   "metadata": {},
   "source": [
    "***Exercise 4***\n",
    "\n",
    "Make a graph that plots the $\\textrm{sinc}$ function, defined such that\n",
    "\n",
    "$$\\textrm{sinc}\\, x = \\frac{\\sin x}{x} \\  \\ \\ \\ \\ (x\\ne 0) $$\n",
    "\n",
    "$$\\textrm{sinc}\\, x = 1 \\ \\ \\ \\ \\  (x = 0) $$\n",
    "\n",
    "(This function arises in the formal theory of diffraction by a rectangular slit.) Plot $\\textrm{sinc}\\,x$ for $x$ between -10 and 10. \n",
    "\n",
    "Hint: the $\\textrm{sinc}$ function has already been defined in numpy as `np.sinc`.\n",
    "\n",
    "Google the sinc function if you don't know what it should look like."
   ]
  },
  {
   "cell_type": "markdown",
   "metadata": {},
   "source": [
    "***Exercise 5***\n",
    "\n",
    "This exercise is the culmination of the things you've learned so far.\n",
    "\n",
    "1. Take the function you wrote in Exercise 3. Plot it on a linear scale for some reasonable range of values of $x$ for $\\tau = 1$.\n",
    "2. On the same axes, plot the same function for several different values of $\\tau$. (You can issue multiple `plt.plot` commands within the same cell.)\n",
    "\n",
    "Two extensions if you have time:\n",
    "\n",
    "3. Try making the same plots on semi-log scale that's logarithmic in $y$. What do your graphs look like, and does this make sense?\n",
    "4. Look up the plt.legend function (use the built-in help or Google it) and use it to create a legend on one or both of your graphs."
   ]
  },
  {
   "cell_type": "markdown",
   "metadata": {},
   "source": [
    "Having learned the basics of arrays and plotting, you are now ready to proceed to the next tutorial, [Lab 1c: Introduction to Curve Fitting](Lab 1c Introduction to Curve Fitting.ipynb)."
   ]
  }
 ],
 "metadata": {
  "anaconda-cloud": {},
  "kernelspec": {
   "display_name": "Python [conda root]",
   "language": "python",
   "name": "conda-root-py"
  },
  "language_info": {
   "codemirror_mode": {
    "name": "ipython",
    "version": 3
   },
   "file_extension": ".py",
   "mimetype": "text/x-python",
   "name": "python",
   "nbconvert_exporter": "python",
   "pygments_lexer": "ipython3",
   "version": "3.5.3"
  }
 },
 "nbformat": 4,
 "nbformat_minor": 1
}
