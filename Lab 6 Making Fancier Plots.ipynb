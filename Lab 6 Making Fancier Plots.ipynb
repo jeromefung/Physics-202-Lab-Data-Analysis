{
 "cells": [
  {
   "cell_type": "markdown",
   "metadata": {},
   "source": [
    "## Making Fancier Plots\n",
    "### Physics 202 Lab, Fall 2016\n",
    "\n",
    "In this notebook I demonstrate how one can make plots with additional control over the plotting features, as well as how one can save plots as images.\n",
    "\n",
    "* Controlling the size of the figure\n",
    "* Adjusting font sizes\n",
    "* Adjusting plotting symbol sizes\n",
    "* Adding errorbars\n",
    "* Exporting the figure"
   ]
  },
  {
   "cell_type": "code",
   "execution_count": 3,
   "metadata": {
    "collapsed": true
   },
   "outputs": [],
   "source": [
    "import numpy as np\n",
    "import matplotlib.pyplot as plt\n",
    "%matplotlib inline"
   ]
  },
  {
   "cell_type": "markdown",
   "metadata": {},
   "source": [
    "I'm going to plot the theoretical prediction for the thermodynamic efficiency of our syringe-based heat engine:\n",
    "\n",
    "$$e_{therm} = \\frac{\\ln\\left( \\frac{P_{high}}{P_{low}} \\right)}{\\frac{7}{2} + \\frac{T_{hot}}{T_{hot} - T_{cold}}\\ln\\left( \\frac{P_{high}}{P_{low}} \\right)}$$\n",
    "\n",
    "I'm also going to pretend I measured the efficiency for several different values of $P_{high}$ and plot those."
   ]
  },
  {
   "cell_type": "code",
   "execution_count": 4,
   "metadata": {
    "collapsed": true
   },
   "outputs": [],
   "source": [
    "# Let Rp be the pressure ratio P_high/P_low.\n",
    "\n",
    "def efficiency(Rp, T_cold = 273., T_hot = 363.): # default temps in Kelvin\n",
    "    numerator = np.log(Rp) \n",
    "    denominator = (7./2.) +  T_hot / (T_hot - T_cold) * np.log(Rp)\n",
    "    return numerator/denominator"
   ]
  },
  {
   "cell_type": "code",
   "execution_count": 5,
   "metadata": {
    "collapsed": false
   },
   "outputs": [],
   "source": [
    "# Make up some data\n",
    "\n",
    "p_low = 102.4e3 # Pa\n",
    "p_high = np.array([103., 104, 105]) * 1e3\n",
    "pressure_ratios = p_high/p_low\n",
    "made_up_efficiencies = np.array([0.0013, 0.0036, 0.0062])"
   ]
  },
  {
   "cell_type": "code",
   "execution_count": 6,
   "metadata": {
    "collapsed": false
   },
   "outputs": [
    {
     "name": "stdout",
     "output_type": "stream",
     "text": [
      "[ 1.00585938  1.015625    1.02539062]\n"
     ]
    },
    {
     "data": {
      "text/plain": [
       "<Container object of 3 artists>"
      ]
     },
     "execution_count": 6,
     "metadata": {},
     "output_type": "execute_result"
    },
    {
     "data": {
      "image/png": "[encoded data removed]",
      "text/plain": [
       "<matplotlib.figure.Figure at 0x10bd93f98>"
      ]
     },
     "metadata": {},
     "output_type": "display_data"
    }
   ],
   "source": [
    "print(p_high/p_low)\n",
    "plt.plot(p_high/p_low, efficiency(p_high/p_low))\n",
    "plt.plot(p_high/p_low, made_up_efficiencies, 'bo')\n",
    "plt.errorbar(p_high/p_low, made_up_efficiencies, yerr = 0.08*made_up_efficiencies, \n",
    "             fmt = 'None')"
   ]
  },
  {
   "cell_type": "code",
   "execution_count": 7,
   "metadata": {
    "collapsed": true
   },
   "outputs": [],
   "source": [
    "pressure_ratios_for_plot = np.linspace(1, 1.03, 100)"
   ]
  },
  {
   "cell_type": "code",
   "execution_count": 30,
   "metadata": {
    "collapsed": false
   },
   "outputs": [
    {
     "data": {
      "image/png": "[encoded data removed]",
      "text/plain": [
       "<matplotlib.figure.Figure at 0x1111df9e8>"
      ]
     },
     "metadata": {},
     "output_type": "display_data"
    }
   ],
   "source": [
    "plt.figure(figsize = (5,3))\n",
    "plt.rcParams['font.family'] = 'STIXGeneral'\n",
    "plt.rcParams['mathtext.fontset'] = 'stix'\n",
    "plt.plot(pressure_ratios_for_plot, efficiency(pressure_ratios_for_plot), 'k')\n",
    "plt.ylim((0, 0.01))\n",
    "plt.xlim((1., 1.03))\n",
    "plt.plot(p_high/p_low, made_up_efficiencies, color = 'k', mfc = 'None', marker = 'o',\n",
    "        ls = 'None')\n",
    "plt.errorbar(p_high/p_low, made_up_efficiencies, yerr = 0.1*made_up_efficiencies, \n",
    "             fmt = 'None', ecolor = 'k')\n",
    "plt.xlabel(r'$P_{high}/P_{low}$', fontsize = 14)\n",
    "plt.ylabel(r'Efficiency $e_{therm}$', fontsize = 14)\n",
    "plt.savefig('test_plot.pdf', bbox_inches = 'tight')"
   ]
  },
  {
   "cell_type": "code",
   "execution_count": 10,
   "metadata": {
    "collapsed": false
   },
   "outputs": [
    {
     "name": "stdout",
     "output_type": "stream",
     "text": [
      "agg.path.chunksize: 0\n",
      "animation.avconv_args: []\n",
      "animation.avconv_path: avconv\n",
      "animation.bitrate: -1\n",
      "animation.codec: mpeg4\n",
      "animation.convert_args: []\n",
      "animation.convert_path: convert\n",
      "animation.ffmpeg_args: []\n",
      "animation.ffmpeg_path: ffmpeg\n",
      "animation.frame_format: png\n",
      "animation.html: none\n",
      "animation.mencoder_args: []\n",
      "animation.mencoder_path: mencoder\n",
      "animation.writer: ffmpeg\n",
      "axes.axisbelow: False\n",
      "axes.edgecolor: k\n",
      "axes.facecolor: w\n",
      "axes.formatter.limits: [-7, 7]\n",
      "axes.formatter.use_locale: False\n",
      "axes.formatter.use_mathtext: False\n",
      "axes.formatter.useoffset: True\n",
      "axes.grid: False\n",
      "axes.grid.axis: both\n",
      "axes.grid.which: major\n",
      "axes.hold: True\n",
      "axes.labelcolor: k\n",
      "axes.labelpad: 5.0\n",
      "axes.labelsize: medium\n",
      "axes.labelweight: normal\n",
      "axes.linewidth: 1.0\n",
      "axes.prop_cycle: cycler('color', ['b', 'g', 'r', 'c', 'm', 'y', 'k'])\n",
      "axes.spines.bottom: True\n",
      "axes.spines.left: True\n",
      "axes.spines.right: True\n",
      "axes.spines.top: True\n",
      "axes.titlesize: large\n",
      "axes.titleweight: normal\n",
      "axes.unicode_minus: True\n",
      "axes.xmargin: 0.0\n",
      "axes.ymargin: 0.0\n",
      "axes3d.grid: True\n",
      "backend: module://ipykernel.pylab.backend_inline\n",
      "backend.qt4: PyQt4\n",
      "backend.qt5: PyQt5\n",
      "backend_fallback: True\n",
      "boxplot.bootstrap: None\n",
      "boxplot.boxprops.color: b\n",
      "boxplot.boxprops.linestyle: -\n",
      "boxplot.boxprops.linewidth: 1.0\n",
      "boxplot.capprops.color: k\n",
      "boxplot.capprops.linestyle: -\n",
      "boxplot.capprops.linewidth: 1.0\n",
      "boxplot.flierprops.color: b\n",
      "boxplot.flierprops.linestyle: none\n",
      "boxplot.flierprops.linewidth: 1.0\n",
      "boxplot.flierprops.marker: +\n",
      "boxplot.flierprops.markeredgecolor: k\n",
      "boxplot.flierprops.markerfacecolor: b\n",
      "boxplot.flierprops.markersize: 6.0\n",
      "boxplot.meanline: False\n",
      "boxplot.meanprops.color: r\n",
      "boxplot.meanprops.linestyle: -\n",
      "boxplot.meanprops.linewidth: 1.0\n",
      "boxplot.medianprops.color: r\n",
      "boxplot.medianprops.linestyle: -\n",
      "boxplot.medianprops.linewidth: 1.0\n",
      "boxplot.notch: False\n",
      "boxplot.patchartist: False\n",
      "boxplot.showbox: True\n",
      "boxplot.showcaps: True\n",
      "boxplot.showfliers: True\n",
      "boxplot.showmeans: False\n",
      "boxplot.vertical: True\n",
      "boxplot.whiskerprops.color: b\n",
      "boxplot.whiskerprops.linestyle: --\n",
      "boxplot.whiskerprops.linewidth: 1.0\n",
      "boxplot.whiskers: 1.5\n",
      "contour.corner_mask: True\n",
      "contour.negative_linestyle: dashed\n",
      "datapath: /Users/jfung2/anaconda/envs/py35/lib/python3.5/site-packages/matplotlib/mpl-data\n",
      "docstring.hardcopy: False\n",
      "errorbar.capsize: 3.0\n",
      "examples.directory: \n",
      "figure.autolayout: False\n",
      "figure.dpi: 80.0\n",
      "figure.edgecolor: (1, 1, 1, 0)\n",
      "figure.facecolor: (1, 1, 1, 0)\n",
      "figure.figsize: [6.0, 4.0]\n",
      "figure.frameon: True\n",
      "figure.max_open_warning: 20\n",
      "figure.subplot.bottom: 0.125\n",
      "figure.subplot.hspace: 0.2\n",
      "figure.subplot.left: 0.125\n",
      "figure.subplot.right: 0.9\n",
      "figure.subplot.top: 0.9\n",
      "figure.subplot.wspace: 0.2\n",
      "figure.titlesize: medium\n",
      "figure.titleweight: normal\n",
      "font.cursive: ['Apple Chancery', 'Textile', 'Zapf Chancery', 'Sand', 'Script MT', 'Felipa', 'cursive']\n",
      "font.family: ['sans-serif']\n",
      "font.fantasy: ['Comic Sans MS', 'Chicago', 'Charcoal', 'ImpactWestern', 'Humor Sans', 'fantasy']\n",
      "font.monospace: ['Bitstream Vera Sans Mono', 'DejaVu Sans Mono', 'Andale Mono', 'Nimbus Mono L', 'Courier New', 'Courier', 'Fixed', 'Terminal', 'monospace']\n",
      "font.sans-serif: ['Bitstream Vera Sans', 'DejaVu Sans', 'Lucida Grande', 'Verdana', 'Geneva', 'Lucid', 'Arial', 'Helvetica', 'Avant Garde', 'sans-serif']\n",
      "font.serif: ['Bitstream Vera Serif', 'DejaVu Serif', 'New Century Schoolbook', 'Century Schoolbook L', 'Utopia', 'ITC Bookman', 'Bookman', 'Nimbus Roman No9 L', 'Times New Roman', 'Times', 'Palatino', 'Charter', 'serif']\n",
      "font.size: 10.0\n",
      "font.stretch: normal\n",
      "font.style: normal\n",
      "font.variant: normal\n",
      "font.weight: normal\n",
      "grid.alpha: 1.0\n",
      "grid.color: k\n",
      "grid.linestyle: :\n",
      "grid.linewidth: 0.5\n",
      "image.aspect: equal\n",
      "image.cmap: jet\n",
      "image.composite_image: True\n",
      "image.interpolation: bilinear\n",
      "image.lut: 256\n",
      "image.origin: upper\n",
      "image.resample: False\n",
      "interactive: True\n",
      "keymap.all_axes: ['a']\n",
      "keymap.back: ['left', 'c', 'backspace']\n",
      "keymap.forward: ['right', 'v']\n",
      "keymap.fullscreen: ['f', 'ctrl+f']\n",
      "keymap.grid: ['g']\n",
      "keymap.home: ['h', 'r', 'home']\n",
      "keymap.pan: ['p']\n",
      "keymap.quit: ['ctrl+w', 'cmd+w']\n",
      "keymap.save: ['s', 'ctrl+s']\n",
      "keymap.xscale: ['k', 'L']\n",
      "keymap.yscale: ['l']\n",
      "keymap.zoom: ['o']\n",
      "legend.borderaxespad: 0.5\n",
      "legend.borderpad: 0.4\n",
      "legend.columnspacing: 2.0\n",
      "legend.edgecolor: inherit\n",
      "legend.facecolor: inherit\n",
      "legend.fancybox: False\n",
      "legend.fontsize: large\n",
      "legend.framealpha: None\n",
      "legend.frameon: True\n",
      "legend.handleheight: 0.7\n",
      "legend.handlelength: 2.0\n",
      "legend.handletextpad: 0.8\n",
      "legend.isaxes: True\n",
      "legend.labelspacing: 0.5\n",
      "legend.loc: upper right\n",
      "legend.markerscale: 1.0\n",
      "legend.numpoints: 2\n",
      "legend.scatterpoints: 3\n",
      "legend.shadow: False\n",
      "lines.antialiased: True\n",
      "lines.color: b\n",
      "lines.dash_capstyle: butt\n",
      "lines.dash_joinstyle: round\n",
      "lines.linestyle: -\n",
      "lines.linewidth: 1.0\n",
      "lines.marker: None\n",
      "lines.markeredgewidth: 0.5\n",
      "lines.markersize: 6.0\n",
      "lines.solid_capstyle: projecting\n",
      "lines.solid_joinstyle: round\n",
      "markers.fillstyle: full\n",
      "mathtext.bf: serif:bold\n",
      "mathtext.cal: cursive\n",
      "mathtext.default: it\n",
      "mathtext.fallback_to_cm: True\n",
      "mathtext.fontset: cm\n",
      "mathtext.it: serif:italic\n",
      "mathtext.rm: serif\n",
      "mathtext.sf: sans\\-serif\n",
      "mathtext.tt: monospace\n",
      "nbagg.transparent: True\n",
      "patch.antialiased: True\n",
      "patch.edgecolor: k\n",
      "patch.facecolor: b\n",
      "patch.linewidth: 1.0\n",
      "path.effects: []\n",
      "path.simplify: True\n",
      "path.simplify_threshold: 0.1111111111111111\n",
      "path.sketch: None\n",
      "path.snap: True\n",
      "pdf.compression: 6\n",
      "pdf.fonttype: 3\n",
      "pdf.inheritcolor: False\n",
      "pdf.use14corefonts: False\n",
      "pgf.debug: False\n",
      "pgf.preamble: []\n",
      "pgf.rcfonts: True\n",
      "pgf.texsystem: xelatex\n",
      "plugins.directory: .matplotlib_plugins\n",
      "polaraxes.grid: True\n",
      "ps.distiller.res: 6000\n",
      "ps.fonttype: 3\n",
      "ps.papersize: letter\n",
      "ps.useafm: False\n",
      "ps.usedistiller: False\n",
      "savefig.bbox: None\n",
      "savefig.directory: ~\n",
      "savefig.dpi: 72.0\n",
      "savefig.edgecolor: w\n",
      "savefig.facecolor: w\n",
      "savefig.format: png\n",
      "savefig.frameon: True\n",
      "savefig.jpeg_quality: 95\n",
      "savefig.orientation: portrait\n",
      "savefig.pad_inches: 0.1\n",
      "savefig.transparent: False\n",
      "svg.fonttype: path\n",
      "svg.image_inline: True\n",
      "svg.image_noscale: False\n",
      "text.antialiased: True\n",
      "text.color: k\n",
      "text.dvipnghack: None\n",
      "text.hinting: auto\n",
      "text.hinting_factor: 8\n",
      "text.latex.preamble: []\n",
      "text.latex.preview: False\n",
      "text.latex.unicode: False\n",
      "text.usetex: False\n",
      "timezone: UTC\n",
      "tk.window_focus: False\n",
      "toolbar: toolbar2\n",
      "verbose.fileo: sys.stdout\n",
      "verbose.level: silent\n",
      "webagg.open_in_browser: True\n",
      "webagg.port: 8988\n",
      "webagg.port_retries: 50\n",
      "xtick.color: k\n",
      "xtick.direction: in\n",
      "xtick.labelsize: medium\n",
      "xtick.major.pad: 4.0\n",
      "xtick.major.size: 4.0\n",
      "xtick.major.width: 0.5\n",
      "xtick.minor.pad: 4.0\n",
      "xtick.minor.size: 2.0\n",
      "xtick.minor.visible: False\n",
      "xtick.minor.width: 0.5\n",
      "ytick.color: k\n",
      "ytick.direction: in\n",
      "ytick.labelsize: medium\n",
      "ytick.major.pad: 4.0\n",
      "ytick.major.size: 4.0\n",
      "ytick.major.width: 0.5\n",
      "ytick.minor.pad: 4.0\n",
      "ytick.minor.size: 2.0\n",
      "ytick.minor.visible: False\n",
      "ytick.minor.width: 0.5\n"
     ]
    }
   ],
   "source": [
    "print(plt.rcParams)"
   ]
  },
  {
   "cell_type": "code",
   "execution_count": 18,
   "metadata": {
    "collapsed": false
   },
   "outputs": [
    {
     "name": "stdout",
     "output_type": "stream",
     "text": [
      "['STIXGeneral']\n"
     ]
    }
   ],
   "source": [
    "print(plt.rcParams['font.family'])"
   ]
  },
  {
   "cell_type": "code",
   "execution_count": null,
   "metadata": {
    "collapsed": true
   },
   "outputs": [],
   "source": []
  }
 ],
 "metadata": {
  "anaconda-cloud": {},
  "kernelspec": {
   "display_name": "Python [conda env:py35]",
   "language": "python",
   "name": "conda-env-py35-py"
  },
  "language_info": {
   "codemirror_mode": {
    "name": "ipython",
    "version": 3
   },
   "file_extension": ".py",
   "mimetype": "text/x-python",
   "name": "python",
   "nbconvert_exporter": "python",
   "pygments_lexer": "ipython3",
   "version": "3.5.2"
  }
 },
 "nbformat": 4,
 "nbformat_minor": 1
}
