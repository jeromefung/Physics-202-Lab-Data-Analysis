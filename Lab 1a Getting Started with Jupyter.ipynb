{
 "cells": [
  {
   "cell_type": "markdown",
   "metadata": {},
   "source": [
    "# Lab 1a: Getting Started with Jupyter\n",
    "\n",
    "### Wellesley College, Physics 202 Lab, Fall 2017\n",
    "### Lauri Wardell and Glenn Stark"\n",
    "### Tutorial written by Jerome Fung
   ]
  },
  {
   "cell_type": "markdown",
   "metadata": {},
   "source": [
    "After completing this tutorial, you will:\n",
    "* Have installed a scientific Python distribution\n",
    "* Created your first Jupyter notebook\n",
    "* Be able to use Jupyter as a fancy calculator"
   ]
  },
  {
   "cell_type": "markdown",
   "metadata": {},
   "source": [
    "## Introduction\n",
    "\n",
    "Welcome to Physics 202 Lab! Our primary learning goals for you in this lab are twofold:\n",
    "\n",
    "* Give you hands-on experimental experience with the phenomena of thermal and quantum physics you'll be studying in class \n",
    "* Develop and refine your skills as an experimental physicist\n",
    "\n",
    "In your previous labs in PHYS 107 & 108, you've probably had some experience with designing experiments, building apparatus, and communicating your results. But another very important thing experimental physicists need to be able to do is to *construct mathematical models of experimental setups or physical phenomena* and *fit mathematical models to data.* Learning and practicing this skill will be a major emphasis of our first few labs this semester.\n",
    "\n",
    "Fitting models to data is almost always a task for a computer -- in virtually all cases, the necessary calculations are simply too tedious to do by hand. You may have previously done linear fits with a spreadsheet program like Microsoft Excel. Here, we will introduce some Python tools that can perform linear fits as well as fits of more complicated functions. We will also introduce an environment, the Jupyter notebook, that is excellent for organizing and presenting analyses of scientific data. \n",
    "\n",
    "You may have had some experience with Python simulations in PHYS 107 & 108 or with Python programming in a computer science class. But don't worry if you haven't -- your instructors and classmates are here to help, and we hope you'll find that the Python software ecosystem is easy-to-learn and user-friendly."
   ]
  },
  {
   "cell_type": "markdown",
   "metadata": {},
   "source": [
    "## Installing a scientific Python distribution\n",
    "\n",
    "As a general-purpose programming language, Python itself has few useful built-in tools for visualizing and analyzing data. However, the standard scientific packages for Python including [numpy](http://www.numpy.org/), [scipy](http://scipy.org/), and [matplotlib](http://matplotlib.org/) provide a very powerful suite of tools that have recently found widespread use in physics, astronomy, quantitative biology, data science, and many other areas.\n",
    "\n",
    "By far the easiest way to get up and running with scientific Python and all the tools you need is to install a *distribution*. We strongly recommend [Anaconda](https://www.continuum.io/downloads), which is free and open source. Note that you will need to download Anaconda even if you've previously had Python or VPython set up on your computer. Of course, if you've already installed Anaconda for some other purpose, you can ignore what follows.\n",
    "\n",
    "1. Visit [https://www.continuum.io/downloads](https://www.continuum.io/downloads) from which you can download Anaconda.\n",
    "2. Select the operating system your computer has -- Anaconda is available for both Windows (32 and 64 bit), OS X, and Linux.\n",
    "3. You'll need to select a Python version, either 2.7 or 3.5. If you've never installed Python before, we suggest 3.5 as it is the future of the language. While there are some differences between Python 3.5 and 2.7, they will not affect what we do in this course. If you already have 2.7 set up, that will work.\n",
    "4. Download the installer (it might take a few minutes) and follow the instructions.\n",
    "\n",
    "That's it!"
   ]
  },
  {
   "cell_type": "markdown",
   "metadata": {},
   "source": [
    "## Launching and using Jupyter notebooks\n",
    "\n",
    "### Why Jupyter?"
   ]
  },
  {
   "cell_type": "markdown",
   "metadata": {},
   "source": [
    "As a practicing physicist, it will frequently be convenient to combine data, computations on those data, visual results from those computations (especially graphs), as well as explanatory text. Jupyter notebooks provide a [complete and self-contained record](http://jupyter-notebook.readthedocs.io/en/latest/examples/Notebook/What%20is%20the%20Jupyter%20Notebook.html) of the computations and analysis you'll do in lab that is moreover easy to share. (This document is in fact generated from a Jupyter notebook, which you are encouraged to download and explore).\n",
    "\n",
    "If you're curious where the name Jupyter comes from, scroll down to \"Where does the name come from?\" [here](https://github.com/jupyter/design/wiki/Jupyter-Logo). For much more information about the features of Jupyter, visit the online [Jupyter documentation here](https://jupyter.readthedocs.io/en/latest/index.html).\n",
    "\n",
    "### Starting Jupyter\n",
    "There are several ways to launch a Jupyter notebook:\n",
    "* Windows: Go to the Start menu and \"Search for programs and files,\" type `jupyter notebook` and select \"Jupyter notebook.\"\n",
    "* Mac: Use the Anaconda launcher, or at a Terminal command line enter `jupyter notebook`.\n",
    "\n",
    "Jupyter will then open as a web page on your default web browser. \n",
    "\n",
    "\n",
    "### Organizing your files and creating your first notebook\n",
    "You will see a main page (called the **dashboard**). You can create new Jupyter notebooks or open existing ones from here. You might want to make a new notebook every time you start a new experiment or analysis, just as you might make a new word processor document every time you start writing a new paper.\n",
    "\n",
    "Saved Jupyter notebooks will be text files with the extension `.ipynb`. You will probably want to keep your Jupyter notebooks together in a directory or folder. The default directory you will see on the dashboard is the one from which you launched Jupyter (most likely, your home directory.) It is probably a good idea to create a new directory on your hard drive for your lab work. You can do this via your operating system, or via the \"New\" button on the dashboard.\n",
    "\n",
    "Create a new directory if you need to, then start up a new notebook by clicking on the \"New\" button on the upper right side of the dashboard and selecting \"Python notebook.\"\n",
    "\n",
    "You will see that your notebook has the title `Untitled`. If you click on the title, you will be able to change the title to something more meaningful. Choose a title and then click \"File\", \"Save and Checkpoint\" (or click on the disk icon in the toolbar) to save your notebook. You should see your .ipynb file either in the Dashboard or via your operating system.\n",
    "\n",
    "### Notebook Cells\n",
    "Jupyter notebooks are divided into **cells**. There are two main types:\n",
    "* **Code cells**: these are cells that allow you to write and edit Python code. Useful features include syntax highlighting and tab completion.\n",
    "* **Markdown cells**: these are cells that are not executed, but allow you to insert commentary using a very simple markup language called Markdown. This textual description is actually part of a markdown cell, and you'll also use markdown cells to comment on your work.\n",
    "\n",
    "Let's start with our first code cell in which we'll import some key packages. Importing a package allows us to use it; we'll include the following lines in pretty much every notebook we use.\n",
    "\n",
    "Click on the first empty cell in your new Jupyter notebook. Be sure that \"Code\" is selected in the dropdown menu on the toolbar (that dropdown menu lets you switch between code and markdown cells). Enter the following statements (the '#' sign in Python is a comment symbol. Anything on a line following the '#' sign will not execute.) "
   ]
  },
  {
   "cell_type": "code",
   "execution_count": 2,
   "metadata": {
    "collapsed": true
   },
   "outputs": [],
   "source": [
    "# numpy is the main Python array library\n",
    "import numpy as np # \"as np\" allows us to use the abbreviation np for convenience\n",
    "\n",
    "# we use matplotlib for plotting graphs\n",
    "import matplotlib.pyplot as plt \n",
    "\n",
    "# we'll use the following parts of the scipy library for curve fitting\n",
    "import scipy.stats\n",
    "import scipy.optimize\n",
    "\n",
    "# the next line allows plots to be displayed within a Jupyter notebook\n",
    "# the command, preceded by a % sign, is known as a \"magic\" command\n",
    "# and comments on the same line aren't allowed\n",
    "%matplotlib inline"
   ]
  },
  {
   "cell_type": "markdown",
   "metadata": {},
   "source": [
    "You can then run the cell in the following ways:\n",
    "\n",
    "* Go to the \"Cell\" menu and select \"Run Cells.\"\n",
    "* Also from the \"Cell\" menu, select \"Run Cells and Insert Below.\" This runs the cell and inserts an empty cell below, which can often be convenient.\n",
    "* Press `Ctrl - Enter`. This keyboard shortcut runs the current cell without inserting a blank cell.\n",
    "* Press `Shift - Enter`. This runs the current cell and inserts a blank cell below.\n",
    "\n",
    "If your installation has gone smoothly, no errors will come up."
   ]
  },
  {
   "cell_type": "markdown",
   "metadata": {},
   "source": [
    "## Using the notebook as a calculator\n",
    "\n",
    "In lab you'll frequently find yourself needing to do arithmetic, and the Jupyter notebook can be a nice tool for this. See some of the examples below."
   ]
  },
  {
   "cell_type": "code",
   "execution_count": 3,
   "metadata": {
    "collapsed": false
   },
   "outputs": [
    {
     "data": {
      "text/plain": [
       "7"
      ]
     },
     "execution_count": 3,
     "metadata": {},
     "output_type": "execute_result"
    }
   ],
   "source": [
    "3 + 4"
   ]
  },
  {
   "cell_type": "code",
   "execution_count": 4,
   "metadata": {
    "collapsed": false
   },
   "outputs": [
    {
     "data": {
      "text/plain": [
       "5.667600000000001"
      ]
     },
     "execution_count": 4,
     "metadata": {},
     "output_type": "execute_result"
    }
   ],
   "source": [
    "(8.723 * 1.2) - 4.8"
   ]
  },
  {
   "cell_type": "code",
   "execution_count": 5,
   "metadata": {
    "collapsed": false
   },
   "outputs": [
    {
     "data": {
      "text/plain": [
       "0.6666666666666666"
      ]
     },
     "execution_count": 5,
     "metadata": {},
     "output_type": "execute_result"
    }
   ],
   "source": [
    "2 / 3"
   ]
  },
  {
   "cell_type": "markdown",
   "metadata": {},
   "source": [
    "The preceding cell illustrates a potential trap if you're using Python 2.7. Dividing 2 integers results in another integer -- and so the result is rounded down to the integer 0. In Python 3, the statement `2 / 3` results in a floating point number as one might expect. If you are using Python 2.7, the statement\n",
    "\n",
    "    from __future__ import division\n",
    "    \n",
    "will result in division as in Python 3. Or you could explicitly make one of the numbers floating point:\n",
    "\n",
    "    2 / 3."
   ]
  },
  {
   "cell_type": "code",
   "execution_count": 6,
   "metadata": {
    "collapsed": false
   },
   "outputs": [
    {
     "data": {
      "text/plain": [
       "-1"
      ]
     },
     "execution_count": 6,
     "metadata": {},
     "output_type": "execute_result"
    }
   ],
   "source": [
    "1 + 2\n",
    "3 - 4"
   ]
  },
  {
   "cell_type": "markdown",
   "metadata": {},
   "source": [
    "Notice that the output of a given code cell shows only the most recent output. However, using the `print` function gets around this:"
   ]
  },
  {
   "cell_type": "code",
   "execution_count": 7,
   "metadata": {
    "collapsed": false
   },
   "outputs": [
    {
     "name": "stdout",
     "output_type": "stream",
     "text": [
      "3\n",
      "-1\n",
      "49\n"
     ]
    }
   ],
   "source": [
    "print(1 + 2)\n",
    "print(3 - 4)\n",
    "print(7**2)"
   ]
  },
  {
   "cell_type": "markdown",
   "metadata": {},
   "source": [
    "The `numpy` module includes a huge range of useful mathematical functions. Some of these are illustrated below. Lots more can be found in the very extensive [numpy documentation](http://docs.scipy.org/doc/numpy/); the documentation for the mathematical functions can be found [here](http://docs.scipy.org/doc/numpy/reference/routines.math.html)."
   ]
  },
  {
   "cell_type": "code",
   "execution_count": 8,
   "metadata": {
    "collapsed": false
   },
   "outputs": [
    {
     "name": "stdout",
     "output_type": "stream",
     "text": [
      "-1.0\n",
      "1.2\n",
      "0.135335283237\n"
     ]
    }
   ],
   "source": [
    "print(np.cos(np.pi)) # default for trig functions is radians\n",
    "print(np.sqrt(1.44))\n",
    "print(np.exp(-2))"
   ]
  },
  {
   "cell_type": "markdown",
   "metadata": {},
   "source": [
    "***Exercise 1***\n",
    "\n",
    "Using Jupyter as a calculator and the `numpy` mathematical functions, evaluate the expression\n",
    "\n",
    "$$\\frac{1}{2\\sqrt{\\pi}} \\cdot \\sin^{-1}(1)$$"
   ]
  },
  {
   "cell_type": "markdown",
   "metadata": {},
   "source": [
    "## Getting Help\n",
    "\n",
    "Links to many helpful resources are in the Jupyter \"Help\" menu. You can get help on specific functions with a `?`:"
   ]
  },
  {
   "cell_type": "code",
   "execution_count": 9,
   "metadata": {
    "collapsed": false
   },
   "outputs": [],
   "source": [
    "np.arctan2?"
   ]
  },
  {
   "cell_type": "markdown",
   "metadata": {},
   "source": [
    "Google is another excellent resource. You are also strongly encouraged to consult your instructor and your classmates, especially as you get started. \n",
    "\n",
    "## Closing Jupyter Notebooks\n",
    "\n",
    "When you're finished working, you'll probably want to close the notebook you're working on. One possibly surprising feature is that closing the web browser window your notebook appears in does *not* shut down the computational engine (known as the \"kernel\") of the notebook. To do that, you need to either click \"File - Close and Halt\" from the notebook, or on the Dashboard, use the \"Shutdown\" buttons in the \"Running\" tab. To close the Jupyter notebook app entirely, you'll need to close the terminal/command line window that opened when you launched Jupyter.\n",
    "\n",
    "\n",
    "Having installed scientific Python, created your first Jupyter notebook, and learned to use Jupyter as a calculator, you are now ready to move on to [Lab 1b: Arrays and Plotting](Lab 1b Arrays and Plotting.ipynb)."
   ]
  }
 ],
 "metadata": {
  "kernelspec": {
   "display_name": "Python [conda env:py35]",
   "language": "python",
   "name": "conda-env-py35-py"
  },
  "language_info": {
   "codemirror_mode": {
    "name": "ipython",
    "version": 3
   },
   "file_extension": ".py",
   "mimetype": "text/x-python",
   "name": "python",
   "nbconvert_exporter": "python",
   "pygments_lexer": "ipython3",
   "version": "3.5.2"
  }
 },
 "nbformat": 4,
 "nbformat_minor": 1
}
